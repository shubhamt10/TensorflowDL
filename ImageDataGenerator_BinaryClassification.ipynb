{
  "nbformat": 4,
  "nbformat_minor": 0,
  "metadata": {
    "colab": {
      "name": "ImageDataGenerator-BinaryClassification.ipynb",
      "provenance": [],
      "authorship_tag": "ABX9TyPXgqzh7KI4L/2rjkN2vxUr",
      "include_colab_link": true
    },
    "kernelspec": {
      "name": "python3",
      "display_name": "Python 3"
    },
    "accelerator": "GPU"
  },
  "cells": [
    {
      "cell_type": "markdown",
      "metadata": {
        "id": "view-in-github",
        "colab_type": "text"
      },
      "source": [
        "<a href=\"https://colab.research.google.com/github/shubhamt10/TensorflowDL/blob/master/ImageDataGenerator_BinaryClassification.ipynb\" target=\"_parent\"><img src=\"https://colab.research.google.com/assets/colab-badge.svg\" alt=\"Open In Colab\"/></a>"
      ]
    },
    {
      "cell_type": "code",
      "metadata": {
        "id": "6fPQVOnltHEP",
        "colab_type": "code",
        "colab": {
          "base_uri": "https://localhost:8080/",
          "height": 425
        },
        "outputId": "59c4b6e3-e113-4544-df2e-68517dbd8091"
      },
      "source": [
        "!wget --no-check-certificate \\\n",
        "    https://storage.googleapis.com/laurencemoroney-blog.appspot.com/horse-or-human.zip \\\n",
        "    -O /tmp/horse-or-human.zip\n",
        "\n",
        "!wget --no-check-certificate \\\n",
        "    https://storage.googleapis.com/laurencemoroney-blog.appspot.com/validation-horse-or-human.zip \\\n",
        "    -O /tmp/validation-horse-or-human.zip"
      ],
      "execution_count": 2,
      "outputs": [
        {
          "output_type": "stream",
          "text": [
            "--2020-04-13 18:08:51--  https://storage.googleapis.com/laurencemoroney-blog.appspot.com/horse-or-human.zip\n",
            "Resolving storage.googleapis.com (storage.googleapis.com)... 172.217.218.128, 2a00:1450:4013:c08::80\n",
            "Connecting to storage.googleapis.com (storage.googleapis.com)|172.217.218.128|:443... connected.\n",
            "HTTP request sent, awaiting response... 200 OK\n",
            "Length: 149574867 (143M) [application/zip]\n",
            "Saving to: ‘/tmp/horse-or-human.zip’\n",
            "\n",
            "\r/tmp/horse-or-human   0%[                    ]       0  --.-KB/s               \r/tmp/horse-or-human  13%[=>                  ]  19.72M  98.6MB/s               \r/tmp/horse-or-human  50%[=========>          ]  72.01M   130MB/s               \r/tmp/horse-or-human  72%[=============>      ] 104.01M   123MB/s               \r/tmp/horse-or-human  95%[==================> ] 136.01M   126MB/s               \r/tmp/horse-or-human 100%[===================>] 142.65M   130MB/s    in 1.1s    \n",
            "\n",
            "2020-04-13 18:08:52 (130 MB/s) - ‘/tmp/horse-or-human.zip’ saved [149574867/149574867]\n",
            "\n",
            "--2020-04-13 18:08:55--  https://storage.googleapis.com/laurencemoroney-blog.appspot.com/validation-horse-or-human.zip\n",
            "Resolving storage.googleapis.com (storage.googleapis.com)... 172.217.218.128, 2a00:1450:4013:c08::80\n",
            "Connecting to storage.googleapis.com (storage.googleapis.com)|172.217.218.128|:443... connected.\n",
            "HTTP request sent, awaiting response... 200 OK\n",
            "Length: 11480187 (11M) [application/zip]\n",
            "Saving to: ‘/tmp/validation-horse-or-human.zip’\n",
            "\n",
            "/tmp/validation-hor 100%[===================>]  10.95M  --.-KB/s    in 0.04s   \n",
            "\n",
            "2020-04-13 18:08:55 (258 MB/s) - ‘/tmp/validation-horse-or-human.zip’ saved [11480187/11480187]\n",
            "\n"
          ],
          "name": "stdout"
        }
      ]
    },
    {
      "cell_type": "code",
      "metadata": {
        "id": "X5YI_yTKtg23",
        "colab_type": "code",
        "colab": {}
      },
      "source": [
        "import os\n",
        "import zipfile\n",
        "\n",
        "local_zip = '/tmp/horse-or-human.zip'\n",
        "zip_ref = zipfile.ZipFile(local_zip, 'r')\n",
        "zip_ref.extractall('/tmp/horse-or-human')\n",
        "local_zip = '/tmp/validation-horse-or-human.zip'\n",
        "zip_ref = zipfile.ZipFile(local_zip, 'r')\n",
        "zip_ref.extractall('/tmp/validation-horse-or-human')\n",
        "zip_ref.close()"
      ],
      "execution_count": 0,
      "outputs": []
    },
    {
      "cell_type": "code",
      "metadata": {
        "id": "K0PKhFzatkFD",
        "colab_type": "code",
        "colab": {
          "base_uri": "https://localhost:8080/",
          "height": 54
        },
        "outputId": "b93d3ff7-c553-40d1-a349-0312c814d0f9"
      },
      "source": [
        "# Directory with our training horse pictures\n",
        "train_horse_dir = os.path.join('/tmp/horse-or-human/horses')\n",
        "\n",
        "# Directory with our training human pictures\n",
        "train_human_dir = os.path.join('/tmp/horse-or-human/humans')\n",
        "\n",
        "# Directory with our training horse pictures\n",
        "validation_horse_dir = os.path.join('/tmp/validation-horse-or-human/horses')\n",
        "\n",
        "# Directory with our training human pictures\n",
        "validation_human_dir = os.path.join('/tmp/validation-horse-or-human/humans')\n",
        "\n",
        "from tensorflow.keras.preprocessing.image import ImageDataGenerator\n",
        "\n",
        "train_datagen = ImageDataGenerator(rescale=1/255)\n",
        "validation_datagen = ImageDataGenerator(rescale=1/255)\n",
        "\n",
        "# Flow training images in batches of 128 using train_datagen generator\n",
        "train_generator = train_datagen.flow_from_directory(\n",
        "        '/tmp/horse-or-human/',\n",
        "        target_size=(150, 150),\n",
        "        batch_size=128,\n",
        "        class_mode='binary')\n",
        "\n",
        "# Flow training images in batches of 128 using train_datagen generator\n",
        "validation_generator = validation_datagen.flow_from_directory(\n",
        "        '/tmp/validation-horse-or-human/',\n",
        "        target_size=(150, 150),\n",
        "        batch_size=32,\n",
        "        class_mode='binary')"
      ],
      "execution_count": 4,
      "outputs": [
        {
          "output_type": "stream",
          "text": [
            "Found 1027 images belonging to 2 classes.\n",
            "Found 256 images belonging to 2 classes.\n"
          ],
          "name": "stdout"
        }
      ]
    },
    {
      "cell_type": "code",
      "metadata": {
        "id": "i9-tKDe-tvBK",
        "colab_type": "code",
        "colab": {
          "base_uri": "https://localhost:8080/",
          "height": 500
        },
        "outputId": "a4de0ad6-1d2c-42e8-8ac9-1cd138623e7b"
      },
      "source": [
        "import tensorflow as tf\n",
        "\n",
        "DESIRED_ACCURACY = 0.98\n",
        "\n",
        "class myCallback(tf.keras.callbacks.Callback):\n",
        "    def on_epoch_end(self,epoch, logs={}):\n",
        "        if(logs.get('accuracy')>DESIRED_ACCURACY):\n",
        "            print(\"\\nReached 99% accuracy so cancelling training!\")\n",
        "            self.model.stop_training = True\n",
        "\n",
        "callbacks = myCallback()\n",
        "\n",
        "model = tf.keras.models.Sequential([\n",
        "    # Note the input shape is the desired size of the image 150x150 with 3 bytes color\n",
        "    tf.keras.layers.Conv2D(16, (3,3), activation='relu', input_shape=(150, 150, 3)),\n",
        "    tf.keras.layers.MaxPooling2D(2, 2),\n",
        "    tf.keras.layers.Conv2D(32, (3,3), activation='relu'),\n",
        "    tf.keras.layers.MaxPooling2D(2,2),\n",
        "    tf.keras.layers.Conv2D(64, (3,3), activation='relu'),\n",
        "    tf.keras.layers.MaxPooling2D(2,2),\n",
        "    tf.keras.layers.Flatten(),\n",
        "    tf.keras.layers.Dense(512, activation='relu'),\n",
        "    tf.keras.layers.Dense(1, activation='sigmoid')\n",
        "])\n",
        "model.summary()"
      ],
      "execution_count": 8,
      "outputs": [
        {
          "output_type": "stream",
          "text": [
            "Model: \"sequential_1\"\n",
            "_________________________________________________________________\n",
            "Layer (type)                 Output Shape              Param #   \n",
            "=================================================================\n",
            "conv2d_3 (Conv2D)            (None, 148, 148, 16)      448       \n",
            "_________________________________________________________________\n",
            "max_pooling2d_3 (MaxPooling2 (None, 74, 74, 16)        0         \n",
            "_________________________________________________________________\n",
            "conv2d_4 (Conv2D)            (None, 72, 72, 32)        4640      \n",
            "_________________________________________________________________\n",
            "max_pooling2d_4 (MaxPooling2 (None, 36, 36, 32)        0         \n",
            "_________________________________________________________________\n",
            "conv2d_5 (Conv2D)            (None, 34, 34, 64)        18496     \n",
            "_________________________________________________________________\n",
            "max_pooling2d_5 (MaxPooling2 (None, 17, 17, 64)        0         \n",
            "_________________________________________________________________\n",
            "flatten_1 (Flatten)          (None, 18496)             0         \n",
            "_________________________________________________________________\n",
            "dense_2 (Dense)              (None, 512)               9470464   \n",
            "_________________________________________________________________\n",
            "dense_3 (Dense)              (None, 1)                 513       \n",
            "=================================================================\n",
            "Total params: 9,494,561\n",
            "Trainable params: 9,494,561\n",
            "Non-trainable params: 0\n",
            "_________________________________________________________________\n"
          ],
          "name": "stdout"
        }
      ]
    },
    {
      "cell_type": "code",
      "metadata": {
        "id": "KpGYnB5it7F-",
        "colab_type": "code",
        "colab": {}
      },
      "source": [
        "from tensorflow.keras.optimizers import RMSprop\n",
        "\n",
        "model.compile(loss='binary_crossentropy',\n",
        "              optimizer=RMSprop(lr=0.001),\n",
        "              metrics=['accuracy'])"
      ],
      "execution_count": 0,
      "outputs": []
    },
    {
      "cell_type": "code",
      "metadata": {
        "id": "VKnKJNrbuK-4",
        "colab_type": "code",
        "colab": {
          "base_uri": "https://localhost:8080/",
          "height": 574
        },
        "outputId": "1c0d2cad-4bc3-4baf-880c-f30cf27db7e7"
      },
      "source": [
        "history = model.fit(\n",
        "      train_generator,\n",
        "      steps_per_epoch=8,  \n",
        "      epochs=15,\n",
        "      verbose=1,\n",
        "      validation_data = validation_generator,\n",
        "      validation_steps=8,\n",
        "      callbacks=[callbacks])"
      ],
      "execution_count": 10,
      "outputs": [
        {
          "output_type": "stream",
          "text": [
            "Epoch 1/15\n",
            "8/8 [==============================] - 5s 661ms/step - loss: 1.4599 - accuracy: 0.6040 - val_loss: 0.4078 - val_accuracy: 0.8828\n",
            "Epoch 2/15\n",
            "8/8 [==============================] - 5s 651ms/step - loss: 0.5089 - accuracy: 0.7330 - val_loss: 0.6313 - val_accuracy: 0.8477\n",
            "Epoch 3/15\n",
            "8/8 [==============================] - 5s 653ms/step - loss: 0.4340 - accuracy: 0.7987 - val_loss: 0.7579 - val_accuracy: 0.8359\n",
            "Epoch 4/15\n",
            "8/8 [==============================] - 5s 645ms/step - loss: 0.1759 - accuracy: 0.9266 - val_loss: 1.0834 - val_accuracy: 0.8477\n",
            "Epoch 5/15\n",
            "8/8 [==============================] - 6s 688ms/step - loss: 0.0904 - accuracy: 0.9658 - val_loss: 0.7658 - val_accuracy: 0.8945\n",
            "Epoch 6/15\n",
            "8/8 [==============================] - 6s 736ms/step - loss: 0.1590 - accuracy: 0.9355 - val_loss: 1.5194 - val_accuracy: 0.7852\n",
            "Epoch 7/15\n",
            "8/8 [==============================] - 5s 661ms/step - loss: 0.8128 - accuracy: 0.8142 - val_loss: 0.5510 - val_accuracy: 0.8867\n",
            "Epoch 8/15\n",
            "8/8 [==============================] - 5s 661ms/step - loss: 0.0962 - accuracy: 0.9655 - val_loss: 1.1063 - val_accuracy: 0.8516\n",
            "Epoch 9/15\n",
            "8/8 [==============================] - 5s 663ms/step - loss: 0.0769 - accuracy: 0.9655 - val_loss: 1.3438 - val_accuracy: 0.8672\n",
            "Epoch 10/15\n",
            "8/8 [==============================] - 5s 653ms/step - loss: 0.0476 - accuracy: 0.9833 - val_loss: 1.4154 - val_accuracy: 0.8594\n",
            "Epoch 11/15\n",
            "8/8 [==============================] - 5s 651ms/step - loss: 0.0242 - accuracy: 0.9922 - val_loss: 1.2782 - val_accuracy: 0.8867\n",
            "Epoch 12/15\n",
            "8/8 [==============================] - 5s 652ms/step - loss: 0.0215 - accuracy: 0.9878 - val_loss: 2.1062 - val_accuracy: 0.8281\n",
            "Epoch 13/15\n",
            "8/8 [==============================] - 5s 657ms/step - loss: 0.0087 - accuracy: 0.9978 - val_loss: 0.8408 - val_accuracy: 0.9180\n",
            "Epoch 14/15\n",
            "8/8 [==============================] - 6s 693ms/step - loss: 0.5638 - accuracy: 0.9131 - val_loss: 1.0463 - val_accuracy: 0.8633\n",
            "Epoch 15/15\n",
            "8/8 [==============================] - 6s 736ms/step - loss: 0.0321 - accuracy: 0.9933 - val_loss: 1.5347 - val_accuracy: 0.8516\n"
          ],
          "name": "stdout"
        }
      ]
    },
    {
      "cell_type": "code",
      "metadata": {
        "id": "dJisY8mluVyD",
        "colab_type": "code",
        "colab": {}
      },
      "source": [
        ""
      ],
      "execution_count": 0,
      "outputs": []
    }
  ]
}